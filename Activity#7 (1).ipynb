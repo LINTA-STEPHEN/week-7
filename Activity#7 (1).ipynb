{
 "cells": [
  {
   "cell_type": "code",
   "execution_count": 2,
   "id": "e1f93a5a",
   "metadata": {},
   "outputs": [],
   "source": [
    "import pandas as pd"
   ]
  },
  {
   "cell_type": "code",
   "execution_count": 3,
   "id": "a762eae5",
   "metadata": {},
   "outputs": [
    {
     "data": {
      "text/html": [
       "<div>\n",
       "<style scoped>\n",
       "    .dataframe tbody tr th:only-of-type {\n",
       "        vertical-align: middle;\n",
       "    }\n",
       "\n",
       "    .dataframe tbody tr th {\n",
       "        vertical-align: top;\n",
       "    }\n",
       "\n",
       "    .dataframe thead th {\n",
       "        text-align: right;\n",
       "    }\n",
       "</style>\n",
       "<table border=\"1\" class=\"dataframe\">\n",
       "  <thead>\n",
       "    <tr style=\"text-align: right;\">\n",
       "      <th></th>\n",
       "      <th>Gender</th>\n",
       "      <th>Test preparation</th>\n",
       "      <th>Total Marks</th>\n",
       "    </tr>\n",
       "  </thead>\n",
       "  <tbody>\n",
       "    <tr>\n",
       "      <th>0</th>\n",
       "      <td>male</td>\n",
       "      <td>none</td>\n",
       "      <td>14</td>\n",
       "    </tr>\n",
       "    <tr>\n",
       "      <th>1</th>\n",
       "      <td>female</td>\n",
       "      <td>none</td>\n",
       "      <td>28</td>\n",
       "    </tr>\n",
       "    <tr>\n",
       "      <th>2</th>\n",
       "      <td>female</td>\n",
       "      <td>none</td>\n",
       "      <td>18</td>\n",
       "    </tr>\n",
       "    <tr>\n",
       "      <th>3</th>\n",
       "      <td>female</td>\n",
       "      <td>none</td>\n",
       "      <td>48</td>\n",
       "    </tr>\n",
       "    <tr>\n",
       "      <th>4</th>\n",
       "      <td>female</td>\n",
       "      <td>none</td>\n",
       "      <td>21</td>\n",
       "    </tr>\n",
       "  </tbody>\n",
       "</table>\n",
       "</div>"
      ],
      "text/plain": [
       "   Gender Test preparation  Total Marks\n",
       "0    male             none           14\n",
       "1  female             none           28\n",
       "2  female             none           18\n",
       "3  female             none           48\n",
       "4  female             none           21"
      ]
     },
     "execution_count": 3,
     "metadata": {},
     "output_type": "execute_result"
    }
   ],
   "source": [
    "data=pd.read_csv(r'C:\\Users\\Admin\\Downloads\\dataset w7.csv')\n",
    "data.head()"
   ]
  },
  {
   "cell_type": "markdown",
   "id": "6da1aae5",
   "metadata": {},
   "source": [
    "# Descripitive Analysis"
   ]
  },
  {
   "cell_type": "code",
   "execution_count": 13,
   "id": "accdc0b6",
   "metadata": {},
   "outputs": [
    {
     "data": {
      "text/plain": [
       "female    16\n",
       "male      12\n",
       "Name: Gender, dtype: int64"
      ]
     },
     "execution_count": 13,
     "metadata": {},
     "output_type": "execute_result"
    }
   ],
   "source": [
    "df=pd.DataFrame(data)\n",
    "df[\"Gender\"].value_counts()"
   ]
  },
  {
   "cell_type": "markdown",
   "id": "34c69ab7",
   "metadata": {},
   "source": [
    "In the given dataset the number of male is 12 and the number of female is 16."
   ]
  },
  {
   "cell_type": "code",
   "execution_count": 95,
   "id": "d45d1176",
   "metadata": {},
   "outputs": [
    {
     "data": {
      "text/plain": [
       "none         21\n",
       "completed     7\n",
       "Name: Test preparation, dtype: int64"
      ]
     },
     "execution_count": 95,
     "metadata": {},
     "output_type": "execute_result"
    }
   ],
   "source": [
    "data[\"Test preparation\"].value_counts()"
   ]
  },
  {
   "cell_type": "markdown",
   "id": "a1a9a0f6",
   "metadata": {},
   "source": [
    "In the given data,only 7 students have completed the test preparation.We can give the graphical representation as follows:"
   ]
  },
  {
   "cell_type": "code",
   "execution_count": 15,
   "id": "304fb873",
   "metadata": {},
   "outputs": [],
   "source": [
    "import matplotlib.pyplot as plt"
   ]
  },
  {
   "cell_type": "code",
   "execution_count": 20,
   "id": "ba483935",
   "metadata": {},
   "outputs": [
    {
     "data": {
      "text/plain": [
       "Text(0, 0.5, 'counts')"
      ]
     },
     "execution_count": 20,
     "metadata": {},
     "output_type": "execute_result"
    },
    {
     "data": {
      "image/png": "[encoded data removed]",
      "text/plain": [
       "<Figure size 432x288 with 1 Axes>"
      ]
     },
     "metadata": {
      "needs_background": "light"
     },
     "output_type": "display_data"
    }
   ],
   "source": [
    "plt.hist(data['Test preparation'])\n",
    "plt.title('Test preparation status of Students')\n",
    "plt.xlabel('test preparation')\n",
    "plt.ylabel('counts')"
   ]
  },
  {
   "cell_type": "code",
   "execution_count": 45,
   "id": "01fd65a4",
   "metadata": {},
   "outputs": [
    {
     "data": {
      "text/html": [
       "<div>\n",
       "<style scoped>\n",
       "    .dataframe tbody tr th:only-of-type {\n",
       "        vertical-align: middle;\n",
       "    }\n",
       "\n",
       "    .dataframe tbody tr th {\n",
       "        vertical-align: top;\n",
       "    }\n",
       "\n",
       "    .dataframe thead th {\n",
       "        text-align: right;\n",
       "    }\n",
       "</style>\n",
       "<table border=\"1\" class=\"dataframe\">\n",
       "  <thead>\n",
       "    <tr style=\"text-align: right;\">\n",
       "      <th></th>\n",
       "      <th>Total Marks</th>\n",
       "    </tr>\n",
       "  </thead>\n",
       "  <tbody>\n",
       "    <tr>\n",
       "      <th>count</th>\n",
       "      <td>28.000000</td>\n",
       "    </tr>\n",
       "    <tr>\n",
       "      <th>mean</th>\n",
       "      <td>32.321429</td>\n",
       "    </tr>\n",
       "    <tr>\n",
       "      <th>std</th>\n",
       "      <td>12.454520</td>\n",
       "    </tr>\n",
       "    <tr>\n",
       "      <th>min</th>\n",
       "      <td>12.000000</td>\n",
       "    </tr>\n",
       "    <tr>\n",
       "      <th>25%</th>\n",
       "      <td>22.500000</td>\n",
       "    </tr>\n",
       "    <tr>\n",
       "      <th>50%</th>\n",
       "      <td>33.000000</td>\n",
       "    </tr>\n",
       "    <tr>\n",
       "      <th>75%</th>\n",
       "      <td>43.250000</td>\n",
       "    </tr>\n",
       "    <tr>\n",
       "      <th>max</th>\n",
       "      <td>50.000000</td>\n",
       "    </tr>\n",
       "  </tbody>\n",
       "</table>\n",
       "</div>"
      ],
      "text/plain": [
       "       Total Marks\n",
       "count    28.000000\n",
       "mean     32.321429\n",
       "std      12.454520\n",
       "min      12.000000\n",
       "25%      22.500000\n",
       "50%      33.000000\n",
       "75%      43.250000\n",
       "max      50.000000"
      ]
     },
     "execution_count": 45,
     "metadata": {},
     "output_type": "execute_result"
    }
   ],
   "source": [
    "data.describe()"
   ]
  },
  {
   "cell_type": "markdown",
   "id": "03728072",
   "metadata": {},
   "source": [
    "The mean of the given data is 32.321429 and the standard deviation is 12.454520.When we are taking separatly (ie male and female) the mean and standard deviation is as follows:"
   ]
  },
  {
   "cell_type": "code",
   "execution_count": 46,
   "id": "5b4b478d",
   "metadata": {},
   "outputs": [
    {
     "data": {
      "text/html": [
       "<div>\n",
       "<style scoped>\n",
       "    .dataframe tbody tr th:only-of-type {\n",
       "        vertical-align: middle;\n",
       "    }\n",
       "\n",
       "    .dataframe tbody tr th {\n",
       "        vertical-align: top;\n",
       "    }\n",
       "\n",
       "    .dataframe thead th {\n",
       "        text-align: right;\n",
       "    }\n",
       "</style>\n",
       "<table border=\"1\" class=\"dataframe\">\n",
       "  <thead>\n",
       "    <tr style=\"text-align: right;\">\n",
       "      <th></th>\n",
       "      <th>count</th>\n",
       "      <th>mean</th>\n",
       "      <th>std</th>\n",
       "      <th>min</th>\n",
       "      <th>25%</th>\n",
       "      <th>50%</th>\n",
       "      <th>75%</th>\n",
       "      <th>max</th>\n",
       "    </tr>\n",
       "    <tr>\n",
       "      <th>Gender</th>\n",
       "      <th></th>\n",
       "      <th></th>\n",
       "      <th></th>\n",
       "      <th></th>\n",
       "      <th></th>\n",
       "      <th></th>\n",
       "      <th></th>\n",
       "      <th></th>\n",
       "    </tr>\n",
       "  </thead>\n",
       "  <tbody>\n",
       "    <tr>\n",
       "      <th>female</th>\n",
       "      <td>16.0</td>\n",
       "      <td>33.750000</td>\n",
       "      <td>12.865976</td>\n",
       "      <td>12.0</td>\n",
       "      <td>25.50</td>\n",
       "      <td>39.0</td>\n",
       "      <td>43.50</td>\n",
       "      <td>50.0</td>\n",
       "    </tr>\n",
       "    <tr>\n",
       "      <th>male</th>\n",
       "      <td>12.0</td>\n",
       "      <td>30.416667</td>\n",
       "      <td>12.168950</td>\n",
       "      <td>14.0</td>\n",
       "      <td>21.75</td>\n",
       "      <td>29.0</td>\n",
       "      <td>43.25</td>\n",
       "      <td>47.0</td>\n",
       "    </tr>\n",
       "  </tbody>\n",
       "</table>\n",
       "</div>"
      ],
      "text/plain": [
       "        count       mean        std   min    25%   50%    75%   max\n",
       "Gender                                                             \n",
       "female   16.0  33.750000  12.865976  12.0  25.50  39.0  43.50  50.0\n",
       "male     12.0  30.416667  12.168950  14.0  21.75  29.0  43.25  47.0"
      ]
     },
     "execution_count": 46,
     "metadata": {},
     "output_type": "execute_result"
    }
   ],
   "source": [
    "df1=data.groupby(by=\"Gender\")['Total Marks'].describe()\n",
    "df1"
   ]
  },
  {
   "cell_type": "markdown",
   "id": "bf2d7fdf",
   "metadata": {},
   "source": [
    "Here there is no much difference in means and standard deviations."
   ]
  },
  {
   "cell_type": "markdown",
   "id": "ff3a7ca9",
   "metadata": {},
   "source": [
    "# whether female and male students scored the same marks."
   ]
  },
  {
   "cell_type": "markdown",
   "id": "ea04292f",
   "metadata": {},
   "source": [
    "In the given dataset the total count is 28,which is less than 30. So we can use t-test to determine whether female and male students scored the same marks,with alpha=0.05."
   ]
  },
  {
   "cell_type": "markdown",
   "id": "bf2a89d7",
   "metadata": {},
   "source": [
    "#hypothesis\n",
    "H0:male and female students scored same marks.\n",
    "H1:male and female did not scored same marks."
   ]
  },
  {
   "cell_type": "code",
   "execution_count": 47,
   "id": "6060942d",
   "metadata": {},
   "outputs": [
    {
     "data": {
      "text/plain": [
       "0     14\n",
       "6     30\n",
       "8     18\n",
       "9     24\n",
       "10    44\n",
       "11    23\n",
       "12    43\n",
       "13    28\n",
       "18    47\n",
       "19    36\n",
       "20    14\n",
       "21    44\n",
       "Name: Total Marks, dtype: int64"
      ]
     },
     "execution_count": 47,
     "metadata": {},
     "output_type": "execute_result"
    }
   ],
   "source": [
    "#marks of male students\n",
    "x1=data[data['Gender']=='male']['Total Marks']\n",
    "x1"
   ]
  },
  {
   "cell_type": "markdown",
   "id": "77c0665b",
   "metadata": {},
   "source": [
    "x1 is the marks scored by male students."
   ]
  },
  {
   "cell_type": "code",
   "execution_count": 48,
   "id": "5c964626",
   "metadata": {},
   "outputs": [
    {
     "data": {
      "text/plain": [
       "1     28\n",
       "2     18\n",
       "3     48\n",
       "4     21\n",
       "5     40\n",
       "7     12\n",
       "14    41\n",
       "15    13\n",
       "16    48\n",
       "17    45\n",
       "22    41\n",
       "23    27\n",
       "24    27\n",
       "25    38\n",
       "26    50\n",
       "27    43\n",
       "Name: Total Marks, dtype: int64"
      ]
     },
     "execution_count": 48,
     "metadata": {},
     "output_type": "execute_result"
    }
   ],
   "source": [
    "#marks of female students\n",
    "x2=data[data['Gender']=='female']['Total Marks']\n",
    "x2"
   ]
  },
  {
   "cell_type": "markdown",
   "id": "02d98105",
   "metadata": {},
   "source": [
    "x2 is marks scored by female students."
   ]
  },
  {
   "cell_type": "code",
   "execution_count": 54,
   "id": "ec1e8af1",
   "metadata": {},
   "outputs": [],
   "source": [
    "alpha=0.05"
   ]
  },
  {
   "cell_type": "code",
   "execution_count": 50,
   "id": "b6dc7bdb",
   "metadata": {},
   "outputs": [],
   "source": [
    "from scipy import stats"
   ]
  },
  {
   "cell_type": "code",
   "execution_count": 63,
   "id": "9f5ee8a7",
   "metadata": {},
   "outputs": [
    {
     "name": "stdout",
     "output_type": "stream",
     "text": [
      "p value is  0.4937822317960763\n",
      "Fail to reject Null Hypothesis\n"
     ]
    }
   ],
   "source": [
    "t_value,p_value=stats.ttest_ind(x1,x2)\n",
    "print(\"p value is \",p)\n",
    "if p<alpha:\n",
    "    print(\"Reject Null Hypothesis\")\n",
    "else:\n",
    "        print(\"Fail to reject Null Hypothesis\")\n"
   ]
  },
  {
   "cell_type": "markdown",
   "id": "25996474",
   "metadata": {},
   "source": [
    "Here we fail to reject the null hypoyhesis.Therefore the male and female students scored same marks."
   ]
  },
  {
   "cell_type": "markdown",
   "id": "12feea89",
   "metadata": {},
   "source": [
    "# Whether test preparation helps the students"
   ]
  },
  {
   "cell_type": "markdown",
   "id": "fc3e4f67",
   "metadata": {},
   "source": [
    "Since the n is less than 30 ,we use t test to determine whether test prepration help the students.Alpha is 0.05."
   ]
  },
  {
   "cell_type": "markdown",
   "id": "c8d37d07",
   "metadata": {},
   "source": [
    "#hypothesis\n",
    "H0:test preparation does not help students.\n",
    "H1:test preparation helps students."
   ]
  },
  {
   "cell_type": "code",
   "execution_count": 85,
   "id": "8444ec58",
   "metadata": {},
   "outputs": [
    {
     "data": {
      "text/plain": [
       "0     14\n",
       "1     28\n",
       "2     18\n",
       "3     48\n",
       "4     21\n",
       "6     30\n",
       "7     12\n",
       "8     18\n",
       "9     24\n",
       "11    23\n",
       "13    28\n",
       "14    41\n",
       "15    13\n",
       "17    45\n",
       "18    47\n",
       "19    36\n",
       "20    14\n",
       "22    41\n",
       "23    27\n",
       "24    27\n",
       "25    38\n",
       "Name: Total Marks, dtype: int64"
      ]
     },
     "execution_count": 85,
     "metadata": {},
     "output_type": "execute_result"
    }
   ],
   "source": [
    "#students who not completed the test preparation\n",
    "s_none=data[data['Test preparation']=='none']['Total Marks']\n",
    "s_none"
   ]
  },
  {
   "cell_type": "code",
   "execution_count": 86,
   "id": "612adf2e",
   "metadata": {},
   "outputs": [
    {
     "data": {
      "text/plain": [
       "5     40\n",
       "10    44\n",
       "12    43\n",
       "16    48\n",
       "21    44\n",
       "26    50\n",
       "27    43\n",
       "Name: Total Marks, dtype: int64"
      ]
     },
     "execution_count": 86,
     "metadata": {},
     "output_type": "execute_result"
    }
   ],
   "source": [
    "#students who completed test preparation\n",
    "s_compl=data[data['Test preparation']=='completed']['Total Marks']\n",
    "s_compl"
   ]
  },
  {
   "cell_type": "code",
   "execution_count": 89,
   "id": "33c3db37",
   "metadata": {},
   "outputs": [],
   "source": [
    "t_value,p_value=stats.ttest_ind(s_none,s_compl)\n"
   ]
  },
  {
   "cell_type": "code",
   "execution_count": 97,
   "id": "4e153a54",
   "metadata": {},
   "outputs": [
    {
     "name": "stdout",
     "output_type": "stream",
     "text": [
      "p value is  0.4937822317960763\n",
      "Fail to reject H0\n"
     ]
    }
   ],
   "source": [
    "print(\"p value is \",p)\n",
    "if p<alpha:\n",
    "    print(\"Reject H0\")\n",
    "else:\n",
    "        print(\"Fail to reject H0\")\n"
   ]
  },
  {
   "cell_type": "code",
   "execution_count": null,
   "id": "22eff86d",
   "metadata": {},
   "outputs": [],
   "source": []
  }
 ],
 "metadata": {
  "kernelspec": {
   "display_name": "Python 3 (ipykernel)",
   "language": "python",
   "name": "python3"
  },
  "language_info": {
   "codemirror_mode": {
    "name": "ipython",
    "version": 3
   },
   "file_extension": ".py",
   "mimetype": "text/x-python",
   "name": "python",
   "nbconvert_exporter": "python",
   "pygments_lexer": "ipython3",
   "version": "3.9.12"
  }
 },
 "nbformat": 4,
 "nbformat_minor": 5
}
